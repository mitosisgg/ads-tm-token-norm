{
 "cells": [
  {
   "cell_type": "markdown",
   "id": "7f79baf9",
   "metadata": {},
   "source": [
    "# ADS 509 Assignment 2.1: Tokenization, Normalization, Descriptive Statistics \n",
    "\n",
    "This notebook holds Assignment 2.1 for Module 2 in ADS 509, Applied Text Mining. Work through this notebook, writing code and answering questions where required. \n",
    "\n",
    "In the previous assignment you pulled lyrics data on two artists. In this assignment we explore this data set and a pull from the now-defunct Twitter API for the artists Cher and Robyn.  If, for some reason, you did not complete that previous assignment, data to use for this assignment can be found in the assignment materials section of Canvas. \n",
    "\n",
    "This assignment asks you to write a short function to calculate some descriptive statistics on a piece of text. Then you are asked to find some interesting and unique statistics on your corpora. \n"
   ]
  },
  {
   "cell_type": "code",
   "execution_count": 1,
   "id": "e2d096b7",
   "metadata": {},
   "outputs": [],
   "source": [
    "import os\n",
    "import re\n",
    "import emoji\n",
    "import pandas as pd\n",
    "import numpy as np\n",
    "\n",
    "from collections import Counter, defaultdict\n",
    "from nltk.corpus import stopwords\n",
    "from string import punctuation\n",
    "\n",
    "sw = stopwords.words(\"english\")"
   ]
  },
  {
   "cell_type": "code",
   "execution_count": 2,
   "id": "923b5a86",
   "metadata": {},
   "outputs": [],
   "source": [
    "# change `data_location` to the location of the folder on your machine.\n",
    "data_location = \"./M1 Results\"\n",
    "\n",
    "# These subfolders should still work if you correctly stored the \n",
    "# data from the Module 1 assignment\n",
    "twitter_folder = \"twitter/\"\n",
    "lyrics_folder = \"lyrics/\""
   ]
  },
  {
   "cell_type": "code",
   "execution_count": 3,
   "id": "06522af9",
   "metadata": {},
   "outputs": [],
   "source": [
    "def descriptive_stats(tokens, num_tokens = 5, verbose=True) :\n",
    "    \"\"\"\n",
    "        Given a list of tokens, print number of tokens, number of unique tokens, \n",
    "        number of characters, lexical diversity (https://en.wikipedia.org/wiki/Lexical_diversity), \n",
    "        and num_tokens most common tokens. Return a list with the number of tokens, number\n",
    "        of unique tokens, lexical diversity, and number of characters. \n",
    "    \n",
    "    \"\"\"\n",
    "\n",
    "    # Fill in the correct values here. \n",
    "    num_tokens = len(tokens)\n",
    "    num_unique_tokens = len(set(tokens))\n",
    "    lexical_diversity = num_unique_tokens / num_tokens\n",
    "    num_characters = sum(len(s) for s in tokens)\n",
    "    \n",
    "    if verbose :        \n",
    "        print(f\"There are {num_tokens} tokens in the data.\")\n",
    "        print(f\"There are {num_unique_tokens} unique tokens in the data.\")\n",
    "        print(f\"There are {num_characters} characters in the data.\")\n",
    "        print(f\"The lexical diversity is {lexical_diversity:.3f} in the data.\")\n",
    "    \n",
    "        # print the five most common tokens\n",
    "        token_counts = Counter(tokens)\n",
    "        most_common_tokens = token_counts.most_common(5)\n",
    "        print(f\"The 5 most common tokens are:\")\n",
    "        for token, count in most_common_tokens:\n",
    "            print(f\"{token}: {count}\")\n",
    "        \n",
    "    return([num_tokens, num_unique_tokens,\n",
    "            lexical_diversity,\n",
    "            num_characters])"
   ]
  },
  {
   "cell_type": "code",
   "execution_count": 4,
   "id": "59dcf058",
   "metadata": {},
   "outputs": [
    {
     "name": "stdout",
     "output_type": "stream",
     "text": [
      "There are 13 tokens in the data.\n",
      "There are 9 unique tokens in the data.\n",
      "There are 55 characters in the data.\n",
      "The lexical diversity is 0.692 in the data.\n",
      "The 5 most common tokens are:\n",
      "text: 3\n",
      "here: 2\n",
      "example: 2\n",
      "is: 1\n",
      "some: 1\n"
     ]
    }
   ],
   "source": [
    "text = \"\"\"here is some example text with other example text here in this text\"\"\".split()\n",
    "assert(descriptive_stats(text, verbose=True)[0] == 13)\n",
    "assert(descriptive_stats(text, verbose=False)[1] == 9)\n",
    "assert(abs(descriptive_stats(text, verbose=False)[2] - 0.69) < 0.02)\n",
    "assert(descriptive_stats(text, verbose=False)[3] == 55)\n"
   ]
  },
  {
   "cell_type": "markdown",
   "id": "d2e7e1a2",
   "metadata": {},
   "source": [
    "Q: Why is it beneficial to use assertion statements in your code? \n",
    "\n",
    "A: Assertion statements allow us to test in an automated way so that we can know that the code meets our expectations."
   ]
  },
  {
   "cell_type": "markdown",
   "id": "9d3bf93e",
   "metadata": {},
   "source": [
    "## Data Input\n",
    "\n",
    "Now read in each of the corpora. For the lyrics data, it may be convenient to store the entire contents of the file to make it easier to inspect the titles individually, as you'll do in the last part of the assignment. In the solution, I stored the lyrics data in a dictionary with two dimensions of keys: artist and song. The value was the file contents. A data frame would work equally well. \n",
    "\n",
    "For the Twitter data, we only need the description field for this assignment. Feel free all the descriptions read it into a data structure. In the solution, I stored the descriptions as a dictionary of lists, with the key being the artist. \n",
    "\n",
    "\n"
   ]
  },
  {
   "cell_type": "code",
   "execution_count": 5,
   "id": "37d70801",
   "metadata": {},
   "outputs": [],
   "source": [
    "# Read in the lyrics data\n",
    "lyrics = {}\n",
    "for folder in os.listdir(os.path.join(data_location, lyrics_folder)):\n",
    "    for filename in os.listdir(os.path.join(data_location, lyrics_folder, folder)):\n",
    "        if filename.endswith(\".txt\") :\n",
    "            with open(os.path.join(data_location, lyrics_folder, folder, filename), \"r\") as f:\n",
    "                pattern = r\"^[^_]+_(.+)\\.txt$\"\n",
    "                match = re.match(pattern, filename)\n",
    "                if match:\n",
    "                    title = match.group(1)\n",
    "                    if folder not in lyrics:\n",
    "                        lyrics[folder] = {\n",
    "                            title: f.read()\n",
    "                        }\n",
    "                    else:\n",
    "                        lyrics[folder][title] = f.read()\n",
    "\n",
    "# check that we read in the correct number of files\n",
    "assert(len(lyrics['cher']) == 316)\n",
    "assert(len(lyrics['robyn']) == 104)"
   ]
  },
  {
   "cell_type": "code",
   "execution_count": 6,
   "id": "debcac5a",
   "metadata": {},
   "outputs": [],
   "source": [
    "# Read in the twitter data\n",
    "tweets = {}\n",
    "twitter_dir = os.path.join(data_location, twitter_folder)\n",
    "for filename in os.listdir(twitter_dir):\n",
    "    if filename.endswith(\"_data.txt\") :\n",
    "        # match for the artist in the filename\n",
    "        pattern = re.compile(r\"^([a-zA-Z0-9]+)_followers_data\\.txt$\")\n",
    "        match = pattern.match(filename)\n",
    "        if match:\n",
    "            artist = match.group(1)\n",
    "            twitter_df = pd.read_csv(os.path.join(data_location, twitter_folder, filename), \n",
    "                                    delimiter=\"\\t\", \n",
    "                                    usecols=[\"description\"],\n",
    "                                    on_bad_lines=\"warn\")\n",
    "            descriptions = twitter_df['description'].tolist()\n",
    "            if artist not in tweets:\n",
    "                tweets[artist] = descriptions\n",
    "            else:\n",
    "                tweets[artist].append(descriptions)"
   ]
  },
  {
   "cell_type": "markdown",
   "id": "6a5f3b12",
   "metadata": {},
   "source": [
    "## Data Cleaning\n",
    "\n",
    "Now clean and tokenize your data. Remove punctuation chacters (available in the `punctuation` object in the `string` library), split on whitespace, fold to lowercase, and remove stopwords. Store your cleaned data, which must be accessible as an interable for `descriptive_stats`, in new objects or in new columns in your data frame. \n",
    "\n"
   ]
  },
  {
   "cell_type": "code",
   "execution_count": 7,
   "id": "71c73d86",
   "metadata": {},
   "outputs": [],
   "source": [
    "punctuation = set(punctuation) # speeds up comparison"
   ]
  },
  {
   "cell_type": "code",
   "execution_count": 8,
   "id": "b327033a",
   "metadata": {},
   "outputs": [],
   "source": [
    "# create your clean twitter data here\n",
    "cleaned_tweets = {}\n",
    "for artist in tweets:\n",
    "    clean_descriptions = []    \n",
    "    for i, description in enumerate(tweets[artist]):\n",
    "        if isinstance(description, str):\n",
    "            # convert to lowercase\n",
    "            description = description.lower()\n",
    "\n",
    "            # remove punctuation\n",
    "            description = ''.join(char for char in description if char not in punctuation)\n",
    "           \n",
    "            # tokenize by splitting on whitespace\n",
    "            tokens = description.split()\n",
    "            \n",
    "            # remove stopwords\n",
    "            tokens = [word for word in tokens if word not in sw]\n",
    "            clean_description = ' '.join(tokens)\n",
    "            clean_descriptions.append(clean_description)\n",
    "    cleaned_tweets[artist] = clean_descriptions"
   ]
  },
  {
   "cell_type": "code",
   "execution_count": 9,
   "id": "e0f22e10",
   "metadata": {},
   "outputs": [],
   "source": [
    "# create your clean lyrics data here\n",
    "cleaned_lyrics = {}\n",
    "for artist in lyrics:\n",
    "    clean_lyrics = []    \n",
    "    for title in lyrics[artist]:\n",
    "        # convert to lowercase\n",
    "        lyric = lyrics[artist][title].lower()    \n",
    "        \n",
    "        # remove punctuation\n",
    "        lyric = ''.join(char for char in lyric if char not in punctuation)\n",
    "        \n",
    "        # tokenize by splitting on whitespace\n",
    "        tokens = lyric.split()\n",
    "        \n",
    "        # remove stopwords\n",
    "        tokens = [word for word in tokens if word not in sw]\n",
    "        lyric = ' '.join(tokens)\n",
    "        clean_lyrics.append(lyric)\n",
    "    cleaned_lyrics[artist] = clean_lyrics"
   ]
  },
  {
   "cell_type": "code",
   "execution_count": 10,
   "id": "1a000f0e",
   "metadata": {},
   "outputs": [],
   "source": [
    "cher_lyrics = ' '.join(cleaned_lyrics['cher'])\n",
    "robyn_lyrics = ' '.join(cleaned_lyrics['robyn'])\n",
    "cher_tweets = ' '.join(cleaned_tweets['cher'])\n",
    "robyn_tweets = ' '.join(cleaned_tweets['robynkonichiwa'])"
   ]
  },
  {
   "cell_type": "markdown",
   "id": "f2dd0179",
   "metadata": {},
   "source": [
    "## Basic Descriptive Statistics\n",
    "\n",
    "Call your `descriptive_stats` function on both your lyrics data and your twitter data and for both artists (four total calls). "
   ]
  },
  {
   "cell_type": "code",
   "execution_count": 11,
   "id": "f0bbedd9",
   "metadata": {},
   "outputs": [
    {
     "name": "stdout",
     "output_type": "stream",
     "text": [
      "Cher Lyrics Stats:\n",
      "There are 35916 tokens in the data.\n",
      "There are 3703 unique tokens in the data.\n",
      "There are 172634 characters in the data.\n",
      "The lexical diversity is 0.103 in the data.\n",
      "The 5 most common tokens are:\n",
      "love: 1004\n",
      "im: 513\n",
      "know: 486\n",
      "dont: 440\n",
      "youre: 333\n",
      "\n",
      "Robyn Lyrics Stats:\n",
      "There are 15227 tokens in the data.\n",
      "There are 2156 unique tokens in the data.\n",
      "There are 73787 characters in the data.\n",
      "The lexical diversity is 0.142 in the data.\n",
      "The 5 most common tokens are:\n",
      "know: 308\n",
      "dont: 301\n",
      "im: 299\n",
      "love: 275\n",
      "got: 251\n",
      "\n",
      "Cher Tweets Stats:\n",
      "There are 16189025 tokens in the data.\n",
      "There are 1708423 unique tokens in the data.\n",
      "There are 96295710 characters in the data.\n",
      "The lexical diversity is 0.106 in the data.\n",
      "The 5 most common tokens are:\n",
      "love: 214710\n",
      "im: 139147\n",
      "life: 123013\n",
      "music: 88244\n",
      "de: 73365\n",
      "\n",
      "Robyn Tweets Stats:\n",
      "There are 1538163 tokens in the data.\n",
      "There are 271325 unique tokens in the data.\n",
      "There are 9397180 characters in the data.\n",
      "The lexical diversity is 0.176 in the data.\n",
      "The 5 most common tokens are:\n",
      "music: 15160\n",
      "love: 11683\n",
      "im: 9052\n",
      "och: 7922\n",
      "life: 7387\n"
     ]
    },
    {
     "data": {
      "text/plain": [
       "[1538163, 271325, 0.1763954795428053, 9397180]"
      ]
     },
     "execution_count": 11,
     "metadata": {},
     "output_type": "execute_result"
    }
   ],
   "source": [
    "# calls to descriptive_stats here\n",
    "print(\"Cher Lyrics Stats:\")\n",
    "descriptive_stats(cher_lyrics.split())\n",
    "print()\n",
    "print(\"Robyn Lyrics Stats:\")\n",
    "descriptive_stats(robyn_lyrics.split())\n",
    "print()\n",
    "print(\"Cher Tweets Stats:\")\n",
    "descriptive_stats(cher_tweets.split())\n",
    "print()\n",
    "print(\"Robyn Tweets Stats:\")\n",
    "descriptive_stats(robyn_tweets.split())\n"
   ]
  },
  {
   "cell_type": "markdown",
   "id": "46294409",
   "metadata": {},
   "source": [
    "Q: How do you think the \"top 5 words\" would be different if we left stopwords in the data? \n",
    "\n",
    "A: The top 5 words would probably be dominated by common articles, prepositions and pronouns like \"the\", \"a\", \"is\", \"i\", \"you\" and \"and.\"\n",
    "\n",
    "---\n",
    "\n",
    "Q: What were your prior beliefs about the lexical diversity between the artists? Does the difference (or lack thereof) in lexical diversity between the artists conform to your prior beliefs? \n",
    "\n",
    "A: I didn't have any prior beliefs since I've never listened to either of their music. I wasn't surprised that the word \"love\" appeared in the top 5 words of both artists' lyrics as it is a common, popular theme. I'm not particularly surprised by the lack of lexical diversity since functional fluency in English is only about 4000-5000 unique words. Most popular music probably falls into this range of words since it can be generally understood by the majority of listeners.\n"
   ]
  },
  {
   "cell_type": "markdown",
   "id": "4d4e1ac1",
   "metadata": {},
   "source": [
    "\n",
    "## Specialty Statistics\n",
    "\n",
    "The descriptive statistics we have calculated are quite generic. You will now calculate a handful of statistics tailored to these data.\n",
    "\n",
    "1. Ten most common emojis by artist in the twitter descriptions.\n",
    "1. Ten most common hashtags by artist in the twitter descriptions.\n",
    "1. Five most common words in song titles by artist. \n",
    "1. For each artist, a histogram of song lengths (in terms of number of tokens) \n",
    "\n",
    "We can use the `emoji` library to help us identify emojis and you have been given a function to help you.\n"
   ]
  },
  {
   "cell_type": "code",
   "execution_count": 12,
   "id": "753a5a3e",
   "metadata": {},
   "outputs": [],
   "source": [
    "assert(emoji.is_emoji(\"❤️\"))\n",
    "assert(not emoji.is_emoji(\":-)\"))"
   ]
  },
  {
   "cell_type": "markdown",
   "id": "986fc4c0",
   "metadata": {},
   "source": [
    "### Emojis 😁\n",
    "\n",
    "What are the ten most common emojis by artist in the twitter descriptions? \n"
   ]
  },
  {
   "cell_type": "code",
   "execution_count": 13,
   "id": "269cd433",
   "metadata": {},
   "outputs": [
    {
     "name": "stdout",
     "output_type": "stream",
     "text": [
      "Top 5 Emojis in Cher Tweets:\n",
      "❤: 79481\n",
      "🌈: 47853\n",
      "♥: 34304\n",
      "🏳: 33640\n",
      "✨: 29776\n",
      "Top 5 Emojis in Robyn Tweets:\n",
      "❤: 4808\n",
      "🌈: 4702\n",
      "🏳: 3539\n",
      "♥: 3117\n",
      "✨: 2240\n"
     ]
    }
   ],
   "source": [
    "def top_5_emojis(tweets):\n",
    "    tokens = []\n",
    "    for char in tweets:\n",
    "        if emoji.is_emoji(char):\n",
    "            tokens.append(char)\n",
    "    token_counts = Counter(tokens)\n",
    "    most_common_tokens = token_counts.most_common(5)\n",
    "    for token, count in most_common_tokens:\n",
    "        print(f\"{token}: {count}\")\n",
    "\n",
    "print(\"Top 5 Emojis in Cher Tweets:\")\n",
    "top_5_emojis(cher_tweets)\n",
    "\n",
    "print(\"Top 5 Emojis in Robyn Tweets:\")\n",
    "top_5_emojis(robyn_tweets)\n"
   ]
  },
  {
   "cell_type": "markdown",
   "id": "bab9b770",
   "metadata": {},
   "source": [
    "### Hashtags\n",
    "\n",
    "What are the ten most common hashtags by artist in the twitter descriptions? \n"
   ]
  },
  {
   "cell_type": "code",
   "execution_count": 14,
   "id": "07c396f1",
   "metadata": {},
   "outputs": [
    {
     "name": "stdout",
     "output_type": "stream",
     "text": [
      "Top 10 Hashtags in Cher Tweets:\n",
      "#BLM: 7925\n",
      "#Resist: 5006\n",
      "#BlackLivesMatter: 4228\n",
      "#resist: 3133\n",
      "#FBR: 2767\n",
      "#blacklivesmatter: 2464\n",
      "#TheResistance: 2459\n",
      "#1: 2231\n",
      "#: 1977\n",
      "#Resistance: 1516\n",
      "\n",
      "Top 10 Hashtags in Robyn Tweets:\n",
      "#BlackLivesMatter: 311\n",
      "#BLM: 274\n",
      "#blacklivesmatter: 200\n",
      "#1: 187\n",
      "#: 151\n",
      "#music: 150\n",
      "#Music: 93\n",
      "#EDM: 79\n",
      "#blm: 51\n",
      "#TeamFollowBack: 51\n"
     ]
    }
   ],
   "source": [
    "def top_10_hashtags(tweets):\n",
    "    tokens = []\n",
    "    for tweet in tweets:\n",
    "        if not isinstance(tweet, str):\n",
    "            continue\n",
    "        words = tweet.split()\n",
    "        for word in words:\n",
    "            if word.startswith('#'):\n",
    "                tokens.append(word)\n",
    "    token_counts = Counter(tokens)\n",
    "    most_common_tokens = token_counts.most_common(10)\n",
    "    for token, count in most_common_tokens:\n",
    "        print(f\"{token}: {count}\")\n",
    "\n",
    "print(\"Top 10 Hashtags in Cher Tweets:\")\n",
    "top_10_hashtags(tweets['cher'])\n",
    "print()\n",
    "\n",
    "print(\"Top 10 Hashtags in Robyn Tweets:\")\n",
    "top_10_hashtags(tweets['robynkonichiwa'])"
   ]
  },
  {
   "cell_type": "markdown",
   "id": "d10f21d5",
   "metadata": {},
   "source": [
    "### Song Titles\n",
    "\n",
    "What are the five most common words in song titles by artist? The song titles should be on the first line of the lyrics pages, so if you have kept the raw file contents around, you will not need to re-read the data.\n"
   ]
  },
  {
   "cell_type": "code",
   "execution_count": 15,
   "id": "bb69b36b",
   "metadata": {},
   "outputs": [
    {
     "name": "stdout",
     "output_type": "stream",
     "text": [
      "Top 5 Words in Cher Song Titles:\n",
      "love: 38\n",
      "man: 12\n",
      "song: 11\n",
      "one: 7\n",
      "come: 6\n",
      "\n",
      "Top 5 Words in Robyn Song Titles:\n",
      "love: 6\n",
      "u: 4\n",
      "hang: 3\n",
      "tell: 3\n",
      "girl: 3\n"
     ]
    }
   ],
   "source": [
    "def top_5_words_in_titles(lyrics):\n",
    "    tokens = []\n",
    "    for song in lyrics:\n",
    "        lyric = lyrics[song]\n",
    "        match = re.match(r'\"([^\"]*)\"', lyric)\n",
    "        if match:\n",
    "            title = match.group(1).lower()\n",
    "            for word in title.split():\n",
    "                if word not in sw:\n",
    "                    tokens.append(word.lower())\n",
    "    token_counts = Counter(tokens)\n",
    "    most_common_tokens = token_counts.most_common(5)\n",
    "    for token, count in most_common_tokens:\n",
    "        print(f\"{token}: {count}\")\n",
    "\n",
    "print(\"Top 5 Words in Cher Song Titles:\")\n",
    "top_5_words_in_titles(lyrics['cher'])\n",
    "print()\n",
    "print(\"Top 5 Words in Robyn Song Titles:\")\n",
    "top_5_words_in_titles(lyrics['robyn'])"
   ]
  },
  {
   "cell_type": "markdown",
   "id": "5dd4fd71",
   "metadata": {},
   "source": [
    "### Song Lengths\n",
    "\n",
    "For each artist, a histogram of song lengths (in terms of number of tokens). If you put the song lengths in a data frame with an artist column, matplotlib will make the plotting quite easy. An example is given to help you out. \n"
   ]
  },
  {
   "cell_type": "code",
   "execution_count": 16,
   "id": "805a1e52",
   "metadata": {},
   "outputs": [
    {
     "data": {
      "application/vnd.microsoft.datawrangler.viewer.v0+json": {
       "columns": [
        {
         "name": "artist",
         "rawType": "object",
         "type": "string"
        },
        {
         "name": "length",
         "rawType": "object",
         "type": "unknown"
        }
       ],
       "ref": "495689c2-152a-4bce-8aad-01e479d83aa2",
       "rows": [
        [
         "Artist 1",
         "Axes(0.125,0.11;0.775x0.77)"
        ],
        [
         "Artist 2",
         "Axes(0.125,0.11;0.775x0.77)"
        ]
       ],
       "shape": {
        "columns": 1,
        "rows": 2
       }
      },
      "text/plain": [
       "artist\n",
       "Artist 1    Axes(0.125,0.11;0.775x0.77)\n",
       "Artist 2    Axes(0.125,0.11;0.775x0.77)\n",
       "Name: length, dtype: object"
      ]
     },
     "execution_count": 16,
     "metadata": {},
     "output_type": "execute_result"
    },
    {
     "data": {
      "image/png": "[encoded data removed]",
      "text/plain": [
       "<Figure size 640x480 with 1 Axes>"
      ]
     },
     "metadata": {},
     "output_type": "display_data"
    }
   ],
   "source": [
    "num_replicates = 1000\n",
    "\n",
    "df = pd.DataFrame({\n",
    "    \"artist\" : ['Artist 1'] * num_replicates + ['Artist 2']*num_replicates,\n",
    "    \"length\" : np.concatenate((np.random.poisson(125,num_replicates),np.random.poisson(150,num_replicates)))\n",
    "})\n",
    "\n",
    "df.groupby('artist')['length'].plot(kind=\"hist\",density=True,alpha=0.5,legend=True)"
   ]
  },
  {
   "cell_type": "markdown",
   "id": "8fde9ebb",
   "metadata": {},
   "source": [
    "Since the lyrics may be stored with carriage returns or tabs, it may be useful to have a function that can collapse whitespace, using regular expressions, and be used for splitting. \n",
    "\n",
    "Q: What does the regular expression `'\\s+'` match on? \n",
    "\n",
    "A: It matches one or more whitespace characters including spaces, tabs, newlines, form feeds, and carriage returns.\n"
   ]
  },
  {
   "cell_type": "code",
   "execution_count": 17,
   "id": "f0e34516",
   "metadata": {},
   "outputs": [],
   "source": [
    "collapse_whitespace = re.compile(r'\\s+')\n",
    "\n",
    "def tokenize_lyrics(lyric) : \n",
    "    \"\"\"strip and split on whitespace\"\"\"\n",
    "    return([item.lower() for item in collapse_whitespace.split(lyric)])"
   ]
  },
  {
   "cell_type": "code",
   "execution_count": 18,
   "id": "2294c440",
   "metadata": {},
   "outputs": [
    {
     "data": {
      "application/vnd.microsoft.datawrangler.viewer.v0+json": {
       "columns": [
        {
         "name": "artist",
         "rawType": "object",
         "type": "string"
        },
        {
         "name": "length",
         "rawType": "object",
         "type": "unknown"
        }
       ],
       "ref": "be3cb9c9-8f73-4189-9a9c-3e17865bb362",
       "rows": [
        [
         "cher",
         "Axes(0.125,0.11;0.775x0.77)"
        ],
        [
         "robyn",
         "Axes(0.125,0.11;0.775x0.77)"
        ]
       ],
       "shape": {
        "columns": 1,
        "rows": 2
       }
      },
      "text/plain": [
       "artist\n",
       "cher     Axes(0.125,0.11;0.775x0.77)\n",
       "robyn    Axes(0.125,0.11;0.775x0.77)\n",
       "Name: length, dtype: object"
      ]
     },
     "execution_count": 18,
     "metadata": {},
     "output_type": "execute_result"
    },
    {
     "data": {
      "image/png": "[encoded data removed]",
      "text/plain": [
       "<Figure size 640x480 with 1 Axes>"
      ]
     },
     "metadata": {},
     "output_type": "display_data"
    }
   ],
   "source": [
    "# Your lyric length comparison chart here.\n",
    "cher_lyrics_collapsed = [len(tokenize_lyrics(lyrics['cher'][lyric])) for lyric in lyrics['cher']]\n",
    "robyn_lyrics_collapsed = [len(tokenize_lyrics(lyrics['robyn'][lyric])) for lyric in lyrics['robyn']]\n",
    "\n",
    "df = pd.DataFrame({\n",
    "    \"artist\" : ['cher'] * len(lyrics['cher']) + ['robyn'] * len(lyrics['robyn']),\n",
    "    \"length\" : cher_lyrics_collapsed + robyn_lyrics_collapsed\n",
    "})\n",
    "\n",
    "df.groupby('artist')['length'].plot(kind=\"hist\",density=True,alpha=0.5,legend=True)"
   ]
  }
 ],
 "metadata": {
  "kernelspec": {
   "display_name": ".venv (3.13.7)",
   "language": "python",
   "name": "python3"
  },
  "language_info": {
   "codemirror_mode": {
    "name": "ipython",
    "version": 3
   },
   "file_extension": ".py",
   "mimetype": "text/x-python",
   "name": "python",
   "nbconvert_exporter": "python",
   "pygments_lexer": "ipython3",
   "version": "3.13.7"
  }
 },
 "nbformat": 4,
 "nbformat_minor": 5
}
